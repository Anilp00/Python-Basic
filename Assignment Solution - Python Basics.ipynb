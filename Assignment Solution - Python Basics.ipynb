{
 "cells": [
  {
   "cell_type": "markdown",
   "metadata": {},
   "source": [
    "Q1) Define two variables, j and k, with values 37 and 52 respectively. <br>\n",
    "What is the sum and product of `j` and `k`?<br>\n",
    "Now re-assign `j` and `k` to have the values 8 and 3 respectively. Again calculate the sum and product"
   ]
  },
  {
   "cell_type": "code",
   "execution_count": 1,
   "metadata": {},
   "outputs": [
    {
     "name": "stdout",
     "output_type": "stream",
     "text": [
      "89\n",
      "1924\n",
      "11\n",
      "24\n"
     ]
    }
   ],
   "source": [
    "j=37\n",
    "k=52\n",
    "#sum\n",
    "print(j+k)\n",
    "#product\n",
    "print(j*k)\n",
    "\n",
    "j=8\n",
    "k=3\n",
    "#sum\n",
    "print(j+k)\n",
    "#product\n",
    "print(j*k)\n"
   ]
  },
  {
   "cell_type": "markdown",
   "metadata": {},
   "source": [
    "Q2) Calculate the number of minutes in a year using variables for a normal year."
   ]
  },
  {
   "cell_type": "code",
   "execution_count": 2,
   "metadata": {},
   "outputs": [
    {
     "name": "stdout",
     "output_type": "stream",
     "text": [
      "number of minutes:\n",
      "525600\n"
     ]
    }
   ],
   "source": [
    "DaysInYear=365\n",
    "HoursInDay=24\n",
    "MinutesInHour=60\n",
    "print(\"number of minutes:\")\n",
    "print(DaysInYear*HoursInDay*MinutesInHour)"
   ]
  },
  {
   "cell_type": "markdown",
   "metadata": {},
   "source": [
    "Q3) Write a code to define two variables, a and b, with values 6 and 7 respectively. Print Addition, Substraction, Multiplication, Division, Floor Division, Modulus or remainder, Exponential of a and b"
   ]
  },
  {
   "cell_type": "code",
   "execution_count": 3,
   "metadata": {},
   "outputs": [
    {
     "name": "stdout",
     "output_type": "stream",
     "text": [
      "Addition  =  13\n",
      "Substraction =  -1\n",
      "Multiplication =  42\n",
      "Division =  0.8571428571428571\n",
      "Floor Division =  0\n",
      "Modulus or remainder 6\n",
      "Exponential =  279936\n"
     ]
    }
   ],
   "source": [
    "a = 6\n",
    "b = 7\n",
    "print(\"Addition  = \", a + b)  \n",
    "print(\"Substraction = \", a - b) \n",
    "print(\"Multiplication = \", a * b) \n",
    "print(\"Division = \", a / b)\n",
    "print(\"Floor Division = \", a // b) \n",
    "print(\"Modulus or remainder\",a % b) \n",
    "print(\"Exponential = \", a ** b)"
   ]
  },
  {
   "cell_type": "markdown",
   "metadata": {},
   "source": [
    "Q4) batch = \"5 girls 3 boys in a class\"  <br>\n",
    "Write the code to get these outputs:<br>\n",
    "- a) Find the len \n",
    "- b) Write the code to get \"5 girls\" from the string. \n",
    "- c) Write the code to get \"3 boys in a class\".\n"
   ]
  },
  {
   "cell_type": "code",
   "execution_count": 4,
   "metadata": {},
   "outputs": [
    {
     "name": "stdout",
     "output_type": "stream",
     "text": [
      "25\n",
      "5 girls \n",
      "5 girls \n",
      "5 girls\n",
      "3 boys in a class\n"
     ]
    }
   ],
   "source": [
    "batch = \"5 girls 3 boys in a class\" \n",
    "# a)Find the len\n",
    "print(len(batch))\n",
    "\n",
    "# b)Write the code to get \"5 girls\" from the string.\n",
    "# if you would take index position upto 8 then it would include the space after girls.\n",
    "print(batch[0:8])     \n",
    "# OR \n",
    "print(batch[:8]) \n",
    "# OR \n",
    "# if you would take index position upto 7 then it won't include the space after girls.\n",
    "print(batch[:7])  \n",
    "\n",
    "# c)Write the code to get \"3 boys in a class\".\n",
    "print(batch[8:])\n"
   ]
  },
  {
   "cell_type": "markdown",
   "metadata": {},
   "source": [
    "Q5)  s = \"Skill Academy Testbook\" <br>\n",
    "Write the code to get these outputs: <br>\n",
    "- a) kbeydA \n",
    "- b) SilAaey\n"
   ]
  },
  {
   "cell_type": "code",
   "execution_count": 5,
   "metadata": {},
   "outputs": [
    {
     "name": "stdout",
     "output_type": "stream",
     "text": [
      "kbeydA\n",
      "kbeydA\n",
      "SilAaey\n"
     ]
    }
   ],
   "source": [
    "s = \"Skill Academy Testbook\" \n",
    "# The whole string slicing will be done from right to left i.e negative index slicing.\n",
    "# a) kbeydA \n",
    "print(s[-1:5:-3])\n",
    "# OR\n",
    "print(s[:4:-3])\n",
    "# b)SilAaey \n",
    "# The whole string slicing will be done from left to right i.e positive index slicing.\n",
    "print(s[:13:2])\n"
   ]
  },
  {
   "cell_type": "markdown",
   "metadata": {},
   "source": [
    "Q6) Print the '$' symbol 20 times without having to type it for 20 times."
   ]
  },
  {
   "cell_type": "code",
   "execution_count": 6,
   "metadata": {},
   "outputs": [
    {
     "name": "stdout",
     "output_type": "stream",
     "text": [
      "$$$$$$$$$$$$$$$$$$$$\n"
     ]
    }
   ],
   "source": [
    "# Print the pattern shown in the question above:\n",
    "print('$'*20)"
   ]
  },
  {
   "cell_type": "markdown",
   "metadata": {},
   "source": [
    "Q7) Find the product of two numbers input by the user. -Take input of the first number and store it in a variable -Take input of the second number and store it in a variable -You will need to typecast the input strings into integers -Calculate the product -Print the result"
   ]
  },
  {
   "cell_type": "code",
   "execution_count": 7,
   "metadata": {},
   "outputs": [
    {
     "name": "stdout",
     "output_type": "stream",
     "text": [
      "483\n"
     ]
    }
   ],
   "source": [
    "# Take input of the first number and store it in a variable:\n",
    "number_1 = input('Enter the first number') \n",
    "\n",
    "# Take input of the second number and store it in a variable:\n",
    "number_2 = input('Enter the second number') \n",
    "\n",
    "# You will need to typecast the input strings into integers\n",
    "# Calculate the product:\n",
    "product = int(number_1) * int(number_2)\n",
    "\n",
    "# Print the result:\n",
    "print(product)"
   ]
  },
  {
   "cell_type": "markdown",
   "metadata": {},
   "source": [
    "Q8) Concatenate the given strings and print the result: string1= 'Welcome to Data Science With Python' string2= 'coding practice session.'"
   ]
  },
  {
   "cell_type": "code",
   "execution_count": 8,
   "metadata": {},
   "outputs": [
    {
     "name": "stdout",
     "output_type": "stream",
     "text": [
      "Welcome to Data Science With Pythoncoding practice session.\n"
     ]
    }
   ],
   "source": [
    "# Concatenate and print the result:\n",
    "string1= 'Welcome to Data Science With Python'\n",
    "string2= 'coding practice session.'\n",
    "print(string1+string2)"
   ]
  }
 ],
 "metadata": {
  "kernelspec": {
   "display_name": "Python 3.8.10 64-bit (windows store)",
   "language": "python",
   "name": "python3"
  },
  "language_info": {
   "codemirror_mode": {
    "name": "ipython",
    "version": 3
   },
   "file_extension": ".py",
   "mimetype": "text/x-python",
   "name": "python",
   "nbconvert_exporter": "python",
   "pygments_lexer": "ipython3",
   "version": "3.8.10"
  },
  "orig_nbformat": 4,
  "vscode": {
   "interpreter": {
    "hash": "d8f38a65f95ae979fba470ab93511c61f11d2b36188dbafc11a6a501c4e93194"
   }
  }
 },
 "nbformat": 4,
 "nbformat_minor": 2
}
